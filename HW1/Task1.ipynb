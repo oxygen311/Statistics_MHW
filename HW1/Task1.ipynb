{
 "cells": [
  {
   "cell_type": "markdown",
   "metadata": {},
   "source": [
    "# Задание 1\n",
    "\n",
    "В первом задании требуется сделать базовый EDA (exploratory data analysis). Найдите зависимости в показателях, посмотрите на распределения этих показателей и сделайте соответствующие выводы.\n",
    "Рекомендации подскажут вам с чего можно начать.\n",
    "\n",
    "* Постройте графики распределений показателей.\n",
    "* Посчитайте статистики, которые вы знаете.\n",
    "* Поищите зависимости между данными и подумайте о способах, которыми можно поискать эти зависимости.\n",
    "\n",
    "В var4 представлены данные турнира по стрельбе из лука среди женщин: очки в разных частях турнира, размер наконечника стрел, страна."
   ]
  },
  {
   "cell_type": "markdown",
   "metadata": {},
   "source": [
    "## Импорт данных"
   ]
  },
  {
   "cell_type": "code",
   "execution_count": 1,
   "metadata": {
    "pycharm": {
     "is_executing": false
    }
   },
   "outputs": [],
   "source": [
    "import pandas as pd\n",
    "import seaborn as sns\n",
    "import matplotlib.pyplot as plt\n",
    "import numpy as np\n",
    "\n",
    "from scipy.stats import skew\n",
    "\n",
    "sns.set(style=\"whitegrid\", font=\"serif\", font_scale=1.1)"
   ]
  },
  {
   "cell_type": "code",
   "execution_count": 2,
   "metadata": {
    "pycharm": {
     "is_executing": false
    }
   },
   "outputs": [
    {
     "data": {
      "text/html": [
       "<div>\n",
       "<style scoped>\n",
       "    .dataframe tbody tr th:only-of-type {\n",
       "        vertical-align: middle;\n",
       "    }\n",
       "\n",
       "    .dataframe tbody tr th {\n",
       "        vertical-align: top;\n",
       "    }\n",
       "\n",
       "    .dataframe thead th {\n",
       "        text-align: right;\n",
       "    }\n",
       "</style>\n",
       "<table border=\"1\" class=\"dataframe\">\n",
       "  <thead>\n",
       "    <tr style=\"text-align: right;\">\n",
       "      <th></th>\n",
       "      <th>Archer(Women)</th>\n",
       "      <th>Total score (1)</th>\n",
       "      <th>1st Half</th>\n",
       "      <th>2nd Half</th>\n",
       "      <th>Xs</th>\n",
       "      <th>Total score (2)</th>\n",
       "    </tr>\n",
       "  </thead>\n",
       "  <tbody>\n",
       "    <tr>\n",
       "      <td>0</td>\n",
       "      <td>Park Sung-Hyun (KOR)</td>\n",
       "      <td>673</td>\n",
       "      <td>336</td>\n",
       "      <td>337</td>\n",
       "      <td>12</td>\n",
       "      <td>679</td>\n",
       "    </tr>\n",
       "    <tr>\n",
       "      <td>1</td>\n",
       "      <td>Yun Ok-Hee (KOR)</td>\n",
       "      <td>667</td>\n",
       "      <td>336</td>\n",
       "      <td>331</td>\n",
       "      <td>14</td>\n",
       "      <td>660</td>\n",
       "    </tr>\n",
       "    <tr>\n",
       "      <td>2</td>\n",
       "      <td>Joo Hyun-Jung (KOR)</td>\n",
       "      <td>664</td>\n",
       "      <td>339</td>\n",
       "      <td>325</td>\n",
       "      <td>10</td>\n",
       "      <td>649</td>\n",
       "    </tr>\n",
       "    <tr>\n",
       "      <td>3</td>\n",
       "      <td>Khatuna Narimanidze (GEO)</td>\n",
       "      <td>663</td>\n",
       "      <td>330</td>\n",
       "      <td>333</td>\n",
       "      <td>12</td>\n",
       "      <td>678</td>\n",
       "    </tr>\n",
       "    <tr>\n",
       "      <td>4</td>\n",
       "      <td>Kwon Un Sil (PRK)</td>\n",
       "      <td>656</td>\n",
       "      <td>324</td>\n",
       "      <td>332</td>\n",
       "      <td>9</td>\n",
       "      <td>660</td>\n",
       "    </tr>\n",
       "    <tr>\n",
       "      <td>...</td>\n",
       "      <td>...</td>\n",
       "      <td>...</td>\n",
       "      <td>...</td>\n",
       "      <td>...</td>\n",
       "      <td>...</td>\n",
       "      <td>...</td>\n",
       "    </tr>\n",
       "    <tr>\n",
       "      <td>59</td>\n",
       "      <td>Najmeh Abtin (IRI)</td>\n",
       "      <td>568</td>\n",
       "      <td>278</td>\n",
       "      <td>290</td>\n",
       "      <td>6</td>\n",
       "      <td>604</td>\n",
       "    </tr>\n",
       "    <tr>\n",
       "      <td>60</td>\n",
       "      <td>Dorji Dema (BHU)</td>\n",
       "      <td>567</td>\n",
       "      <td>283</td>\n",
       "      <td>284</td>\n",
       "      <td>2</td>\n",
       "      <td>661</td>\n",
       "    </tr>\n",
       "    <tr>\n",
       "      <td>61</td>\n",
       "      <td>Sigrid Romero (COL)</td>\n",
       "      <td>551</td>\n",
       "      <td>279</td>\n",
       "      <td>272</td>\n",
       "      <td>1</td>\n",
       "      <td>649</td>\n",
       "    </tr>\n",
       "    <tr>\n",
       "      <td>62</td>\n",
       "      <td>Albina Kamaletdinova (TJK)</td>\n",
       "      <td>547</td>\n",
       "      <td>294</td>\n",
       "      <td>253</td>\n",
       "      <td>7</td>\n",
       "      <td>563</td>\n",
       "    </tr>\n",
       "    <tr>\n",
       "      <td>63</td>\n",
       "      <td>Khadija Abbouda (MAR)</td>\n",
       "      <td>539</td>\n",
       "      <td>270</td>\n",
       "      <td>269</td>\n",
       "      <td>4</td>\n",
       "      <td>661</td>\n",
       "    </tr>\n",
       "  </tbody>\n",
       "</table>\n",
       "<p>64 rows × 6 columns</p>\n",
       "</div>"
      ],
      "text/plain": [
       "                 Archer(Women)  Total score (1)  1st Half  2nd Half  Xs  \\\n",
       "0         Park Sung-Hyun (KOR)              673       336       337  12   \n",
       "1             Yun Ok-Hee (KOR)              667       336       331  14   \n",
       "2          Joo Hyun-Jung (KOR)              664       339       325  10   \n",
       "3    Khatuna Narimanidze (GEO)              663       330       333  12   \n",
       "4            Kwon Un Sil (PRK)              656       324       332   9   \n",
       "..                         ...              ...       ...       ...  ..   \n",
       "59          Najmeh Abtin (IRI)              568       278       290   6   \n",
       "60            Dorji Dema (BHU)              567       283       284   2   \n",
       "61         Sigrid Romero (COL)              551       279       272   1   \n",
       "62  Albina Kamaletdinova (TJK)              547       294       253   7   \n",
       "63       Khadija Abbouda (MAR)              539       270       269   4   \n",
       "\n",
       "    Total score (2)  \n",
       "0               679  \n",
       "1               660  \n",
       "2               649  \n",
       "3               678  \n",
       "4               660  \n",
       "..              ...  \n",
       "59              604  \n",
       "60              661  \n",
       "61              649  \n",
       "62              563  \n",
       "63              661  \n",
       "\n",
       "[64 rows x 6 columns]"
      ]
     },
     "execution_count": 2,
     "metadata": {},
     "output_type": "execute_result"
    }
   ],
   "source": [
    "df = pd.read_csv('var4.tsv', sep='\\t')\n",
    "df"
   ]
  },
  {
   "cell_type": "markdown",
   "metadata": {},
   "source": [
    "## Графики распределения показателей"
   ]
  },
  {
   "cell_type": "markdown",
   "metadata": {
    "pycharm": {
     "name": "#%% md\n"
    }
   },
   "source": [
    "## Total score (1)"
   ]
  },
  {
   "cell_type": "code",
   "execution_count": 3,
   "metadata": {
    "pycharm": {
     "is_executing": false,
     "name": "#%%\n"
    }
   },
   "outputs": [
    {
     "name": "stdout",
     "output_type": "stream",
     "text": [
      "Mean: 624.40625\n",
      "Median: 630.5\n",
      "Standart deviation: 28.29792326191977\n",
      "Skewness: -1.1238955801444677\n"
     ]
    }
   ],
   "source": [
    "xs = df['Total score (1)']\n",
    "print('Mean:', np.mean(xs))\n",
    "print('Median:', np.median(xs))\n",
    "print('Standart deviation:', np.std(xs))\n",
    "print('Skewness:', skew(xs))"
   ]
  },
  {
   "cell_type": "code",
   "execution_count": 4,
   "metadata": {
    "pycharm": {
     "is_executing": false,
     "name": "#%%\n"
    }
   },
   "outputs": [
    {
     "data": {
      "image/png": "[encoded data removed]",
      "text/plain": [
       "<Figure size 432x288 with 1 Axes>"
      ]
     },
     "metadata": {
      "needs_background": "light"
     },
     "output_type": "display_data"
    }
   ],
   "source": [
    "plt.plot(xs)\n",
    "plt.show()"
   ]
  },
  {
   "cell_type": "markdown",
   "metadata": {},
   "source": [
    "## Total score (2)"
   ]
  },
  {
   "cell_type": "code",
   "execution_count": 5,
   "metadata": {
    "pycharm": {
     "is_executing": false,
     "name": "#%%\n"
    }
   },
   "outputs": [
    {
     "name": "stdout",
     "output_type": "stream",
     "text": [
      "Mean: 651.09375\n",
      "Median: 657.5\n",
      "Standart deviation: 20.826454593557205\n",
      "Skewness: -1.677640460640804\n"
     ]
    }
   ],
   "source": [
    "xs = df['Total score (2)']\n",
    "print('Mean:', np.mean(xs))\n",
    "print('Median:', np.median(xs))\n",
    "print('Standart deviation:', np.std(xs))\n",
    "print('Skewness:', skew(xs))"
   ]
  },
  {
   "cell_type": "code",
   "execution_count": 6,
   "metadata": {
    "pycharm": {
     "is_executing": false,
     "name": "#%%\n"
    }
   },
   "outputs": [
    {
     "data": {
      "image/png": "[encoded data removed]",
      "text/plain": [
       "<Figure size 432x288 with 1 Axes>"
      ]
     },
     "metadata": {
      "needs_background": "light"
     },
     "output_type": "display_data"
    }
   ],
   "source": [
    "plt.plot(xs)\n",
    "plt.show()\n"
   ]
  },
  {
   "cell_type": "markdown",
   "metadata": {
    "pycharm": {
     "is_executing": false,
     "name": "#%% md\n"
    }
   },
   "source": [
    "## 1st Halt"
   ]
  },
  {
   "cell_type": "code",
   "execution_count": 7,
   "metadata": {
    "pycharm": {
     "is_executing": false,
     "name": "#%%\n"
    }
   },
   "outputs": [
    {
     "name": "stdout",
     "output_type": "stream",
     "text": [
      "Mean: 313.53125\n",
      "Median: 317.5\n",
      "Standart deviation: 14.785940059309722\n",
      "Skewness: -0.9070749414333177\n"
     ]
    }
   ],
   "source": [
    "xs = df['1st Half']\n",
    "print('Mean:', np.mean(xs))\n",
    "print('Median:', np.median(xs))\n",
    "print('Standart deviation:', np.std(xs))\n",
    "print('Skewness:', skew(xs))"
   ]
  },
  {
   "cell_type": "code",
   "execution_count": 8,
   "metadata": {
    "pycharm": {
     "is_executing": false,
     "name": "#%%\n"
    }
   },
   "outputs": [
    {
     "data": {
      "image/png": "[encoded data removed]",
      "text/plain": [
       "<Figure size 432x288 with 1 Axes>"
      ]
     },
     "metadata": {
      "needs_background": "light"
     },
     "output_type": "display_data"
    }
   ],
   "source": [
    "plt.plot(xs)\n",
    "plt.show()"
   ]
  },
  {
   "cell_type": "markdown",
   "metadata": {},
   "source": [
    "## 2nd Halt"
   ]
  },
  {
   "cell_type": "code",
   "execution_count": 9,
   "metadata": {
    "pycharm": {
     "is_executing": false,
     "name": "#%%\n"
    }
   },
   "outputs": [
    {
     "name": "stdout",
     "output_type": "stream",
     "text": [
      "Mean: 313.53125\n",
      "Median: 317.5\n",
      "Standart deviation: 14.785940059309722\n",
      "Skewness: -0.9070749414333177\n"
     ]
    }
   ],
   "source": [
    "xs = df['1st Half']\n",
    "print('Mean:', np.mean(xs))\n",
    "print('Median:', np.median(xs))\n",
    "print('Standart deviation:', np.std(xs))\n",
    "print('Skewness:', skew(xs))"
   ]
  },
  {
   "cell_type": "code",
   "execution_count": 10,
   "metadata": {
    "pycharm": {
     "is_executing": false,
     "name": "#%%\n"
    }
   },
   "outputs": [
    {
     "data": {
      "image/png": "[encoded data removed]",
      "text/plain": [
       "<Figure size 432x288 with 1 Axes>"
      ]
     },
     "metadata": {
      "needs_background": "light"
     },
     "output_type": "display_data"
    }
   ],
   "source": [
    "plt.plot(xs)\n",
    "plt.show()"
   ]
  },
  {
   "cell_type": "markdown",
   "metadata": {
    "pycharm": {
     "name": "#%% md\n"
    }
   },
   "source": [
    "## Закономерности\n",
    "\n",
    "1) Можно заметить, что данные отсортированы по параметру *Total score (1)*, так как по нему они строго не убывают; <br>\n",
    "2) Остальные признаки тоже в среднем убывают и заметно скорелированы с *Total score (1)*;<br>\n",
    "3) Отрицательный коэффициент асимметрии сигнализирует о небольшой \"скошенности данных\" влево, что заметно и по графику  для *Total score (1)*;<br>\n",
    "4) Судя по первым строчкам данных, *Total score (1)* = *1st Half* + *2nd Half*.\n",
    "\n",
    "Проверим все эти факты 2) и 4):"
   ]
  },
  {
   "cell_type": "code",
   "execution_count": 11,
   "metadata": {},
   "outputs": [
    {
     "name": "stdout",
     "output_type": "stream",
     "text": [
      "Corrcoefs (with Total score (1)):\n",
      "   With Total score (2): 0.4462992463436751\n",
      "   With 1st Half: 0.9445394111535921\n",
      "   With 2nd Half: 0.9471188615813776\n",
      "\n",
      "1st Half and 2nd Half are also stringly correlated: 0.7892137490788753\n",
      "\n",
      "Is \"Total score (1)\" = \"1st Half\" + \"2nd Half?\": True\n"
     ]
    }
   ],
   "source": [
    "print('Corrcoefs (with Total score (1)):')\n",
    "print('   With Total score (2):', np.corrcoef(df['Total score (1)'], df['Total score (2)'])[0,1])\n",
    "print('   With 1st Half:', np.corrcoef(df['Total score (1)'], df['1st Half'])[0,1])\n",
    "print('   With 2nd Half:', np.corrcoef(df['Total score (1)'], df['2nd Half'])[0,1])\n",
    "\n",
    "print()\n",
    "print('1st Half and 2nd Half are also stringly correlated:', np.corrcoef(df['1st Half'], df['2nd Half'])[0,1])\n",
    "\n",
    "print()\n",
    "print('Is \"Total score (1)\" = \"1st Half\" + \"2nd Half?\":', end=' ')\n",
    "print(np.all(df['Total score (1)'] == df['1st Half'] + df['2nd Half']))"
   ]
  },
  {
   "cell_type": "code",
   "execution_count": null,
   "metadata": {},
   "outputs": [],
   "source": []
  }
 ],
 "metadata": {
  "kernelspec": {
   "display_name": "Python 3",
   "language": "python",
   "name": "python3"
  },
  "language_info": {
   "codemirror_mode": {
    "name": "ipython",
    "version": 3
   },
   "file_extension": ".py",
   "mimetype": "text/x-python",
   "name": "python",
   "nbconvert_exporter": "python",
   "pygments_lexer": "ipython3",
   "version": "3.7.4"
  },
  "pycharm": {
   "stem_cell": {
    "cell_type": "raw",
    "metadata": {
     "collapsed": false
    },
    "source": []
   }
  }
 },
 "nbformat": 4,
 "nbformat_minor": 2
}

{
 "cells": [
  {
   "cell_type": "markdown",
   "metadata": {},
   "source": [
    "## Задание 4\n",
    "\n",
    "Продемонстрируйте, что скорость сходимости к нормальному распределению в рамках центральной предельной теоремы может быть различной для различных распределений."
   ]
  },
  {
   "cell_type": "code",
   "execution_count": 1,
   "metadata": {},
   "outputs": [],
   "source": [
    "import scipy.stats\n",
    "\n",
    "import numpy as np\n",
    "import matplotlib.pyplot as plt\n",
    "import seaborn as sns\n",
    "\n",
    "sns.set(style=\"whitegrid\", font=\"serif\", font_scale=1.1)\n",
    "plt.rcParams['figure.dpi'] = 100"
   ]
  },
  {
   "cell_type": "code",
   "execution_count": 2,
   "metadata": {},
   "outputs": [],
   "source": [
    "def generate_sample(n, dist):\n",
    "    return np.sqrt(n) * (np.mean(dist.rvs(size=n)) - dist.mean()) / dist.std()"
   ]
  },
  {
   "cell_type": "markdown",
   "metadata": {},
   "source": [
    "Будем увеличивать n с шагом **в** 2 раза. \n",
    "Для проверки на качество сходимости будем генерировать 1000 сэмплов и смотреть на расстрояние Колмогорова-Смирнова.\n",
    "Также можно смотреть на p-value для теста Колмогорова-Смирнова."
   ]
  },
  {
   "cell_type": "code",
   "execution_count": 3,
   "metadata": {},
   "outputs": [],
   "source": [
    "def simulate(dist_names, samples=42_000, max_degree = 12):\n",
    "    for dist_name in dist_names:\n",
    "        print(dist_name)\n",
    "        dist = getattr(scipy.stats, dist_name)\n",
    "        ns = [2 ** i for i in range(max_degree)]\n",
    "        ks_dist = []\n",
    "\n",
    "        for n in ns:\n",
    "            ds = [np.sqrt(n) * (np.mean(dist.rvs(size=n)) - dist.mean()) / dist.std() for _ in range(samples)]\n",
    "            res = scipy.stats.kstest(ds, 'norm')\n",
    "            ks_dist.append(res[0])\n",
    "            print(f'N = {n}:', res)\n",
    "\n",
    "        plt.plot(ks_dist, label=dist_name)\n",
    "        print()\n",
    "    \n",
    "    plt.xticks(range(max_degree), ns)\n",
    "    plt.ylabel('ks distance')\n",
    "    plt.xlabel('n')\n",
    "    plt.legend()\n",
    "    plt.show()\n"
   ]
  },
  {
   "cell_type": "markdown",
   "metadata": {},
   "source": [
    "## Симуляции\n",
    "* Экспоненциальное распределение, \n",
    "* Арксинусоидальное распределение, \n",
    "* Распределение Лапласа."
   ]
  },
  {
   "cell_type": "code",
   "execution_count": 4,
   "metadata": {},
   "outputs": [
    {
     "name": "stdout",
     "output_type": "stream",
     "text": [
      "arcsine\n",
      "N = 1: KstestResult(statistic=0.09640617670208307, pvalue=0.0)\n",
      "N = 2: KstestResult(statistic=0.02994985667946659, pvalue=3.784699075487001e-33)\n",
      "N = 4: KstestResult(statistic=0.013420143660112016, pvalue=5.380715400706892e-07)\n",
      "N = 8: KstestResult(statistic=0.005718617084609967, pvalue=0.12820390235636006)\n",
      "N = 16: KstestResult(statistic=0.0039850505187507546, pvalue=0.5172382829566289)\n",
      "N = 32: KstestResult(statistic=0.00550899170240704, pvalue=0.15619577672200324)\n",
      "N = 64: KstestResult(statistic=0.0032474766587990977, pvalue=0.7675717977330971)\n",
      "N = 128: KstestResult(statistic=0.0037134337766222547, pvalue=0.608637198806928)\n",
      "N = 256: KstestResult(statistic=0.004369406369505113, pvalue=0.3990270631189339)\n",
      "N = 512: KstestResult(statistic=0.004424841875693475, pvalue=0.3833795591897269)\n",
      "N = 1024: KstestResult(statistic=0.0031558008704267726, pvalue=0.7970331504106621)\n",
      "N = 2048: KstestResult(statistic=0.00349328108409111, pvalue=0.6846133786082857)\n",
      "\n",
      "expon\n",
      "N = 1: KstestResult(statistic=0.15867347623955397, pvalue=0.0)\n",
      "N = 2: KstestResult(statistic=0.09989748706172502, pvalue=0.0)\n",
      "N = 4: KstestResult(statistic=0.06832875216449308, pvalue=9.530096128749172e-171)\n",
      "N = 8: KstestResult(statistic=0.045705774756187645, pvalue=1.2362902712900082e-76)\n",
      "N = 16: KstestResult(statistic=0.0367619695187954, pvalue=9.98655797847564e-50)\n",
      "N = 32: KstestResult(statistic=0.021796864360867363, pvalue=9.309189153077359e-18)\n",
      "N = 64: KstestResult(statistic=0.021143324171485067, pvalue=9.832768887277339e-17)\n",
      "N = 128: KstestResult(statistic=0.009104620899307803, pvalue=0.0018923060814414437)\n",
      "N = 256: KstestResult(statistic=0.009932919032077547, pvalue=0.0005031939975170596)\n",
      "N = 512: KstestResult(statistic=0.007817900960909452, pvalue=0.011785358057697563)\n",
      "N = 1024: KstestResult(statistic=0.0048572088006264, pvalue=0.27492902001837777)\n",
      "N = 2048: KstestResult(statistic=0.005549800640955838, pvalue=0.15039309581269447)\n",
      "\n"
     ]
    },
    {
     "data": {
      "image/png": "[encoded data removed]",
      "text/plain": [
       "<Figure size 432x288 with 1 Axes>"
      ]
     },
     "metadata": {
      "needs_background": "light"
     },
     "output_type": "display_data"
    }
   ],
   "source": [
    "dist_names = ['arcsine', 'expon']\n",
    "simulate(dist_names)"
   ]
  },
  {
   "cell_type": "markdown",
   "metadata": {},
   "source": [
    "### Вывод:\n",
    "Судя по графику и по p-values, можно сделать вывод, что заметно быстрее сошлось арксинусоидальное распределение.\n"
   ]
  },
  {
   "cell_type": "markdown",
   "metadata": {},
   "source": [
    "## Почему?"
   ]
  },
  {
   "cell_type": "markdown",
   "metadata": {},
   "source": [
    "Оценку скорости сходимости к ЦПТ также можно провести с помощью неравества [Берри-Эссеена](https://en.wikipedia.org/wiki/Berry–Esseen_theorem). \n",
    "В нём утверждается, что скорость сходимости пропорциональна третьему абсолютному центральному моменту. Давайте же проверим этот факт!"
   ]
  },
  {
   "cell_type": "code",
   "execution_count": 5,
   "metadata": {},
   "outputs": [
    {
     "name": "stdout",
     "output_type": "stream",
     "text": [
      "arcsine: 0.31249999999970735\n",
      "expon: 6.0\n"
     ]
    }
   ],
   "source": [
    "def third_absolute_moments(dist_names):\n",
    "    for dist_name in dist_names:\n",
    "        dist = getattr(scipy.stats, dist_name)\n",
    "        # don't need centering becouse loc=0\n",
    "        print(f'{dist_name}: {dist.expect(lambda x: abs(x ** 3))}')\n",
    "        \n",
    "third_absolute_moments(dist_names)"
   ]
  },
  {
   "cell_type": "markdown",
   "metadata": {},
   "source": [
    "Мы видим, что у экспоненциального распределения третий центральный абсолютный момент заметно больше, чем у арксинусоидального. То есть полученная картина совпадает с нашими результатами на предыдущем шаге."
   ]
  },
  {
   "cell_type": "code",
   "execution_count": null,
   "metadata": {},
   "outputs": [],
   "source": []
  }
 ],
 "metadata": {
  "kernelspec": {
   "display_name": "Python 3",
   "language": "python",
   "name": "python3"
  },
  "language_info": {
   "codemirror_mode": {
    "name": "ipython",
    "version": 3
   },
   "file_extension": ".py",
   "mimetype": "text/x-python",
   "name": "python",
   "nbconvert_exporter": "python",
   "pygments_lexer": "ipython3",
   "version": "3.7.4"
  }
 },
 "nbformat": 4,
 "nbformat_minor": 2
}

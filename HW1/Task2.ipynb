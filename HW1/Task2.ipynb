{
 "cells": [
  {
   "cell_type": "markdown",
   "metadata": {},
   "source": [
    "# Задание 2\n",
    "\n",
    "Промоделируйте выборку из $N(a,\\sigma^2)$ (параметры $a$ и $\\sigma^2$ могут быть любыми) объема $N = 150$. Посмотрите на выборочную медиану и выборочное среднее. \n",
    "Затем промоделируйте выборку из $N(a + 5\\sigma, \\sigma^2)$ объема $N = 5$ и добавьте эти наблюдения в исходную выборку.\n",
    "* Повторите моделирование ($150$ наблюдений из одного распределения и $5$ из другого) несколько раз и исследуйте смещение среднего и медианы относительно $a$.\n",
    "* Для любого ли распределения можно использовать выборочную медиану для оценки среднего?"
   ]
  },
  {
   "cell_type": "code",
   "execution_count": 24,
   "metadata": {},
   "outputs": [],
   "source": [
    "import numpy as np\n",
    "import seaborn as sns\n",
    "import matplotlib.pyplot as plt\n",
    "\n",
    "sns.set(style=\"whitegrid\", font=\"serif\", font_scale=1.1)"
   ]
  },
  {
   "cell_type": "markdown",
   "metadata": {},
   "source": [
    "Посмотрим на выборочную медиану и среднее для выборки из $N(a,\\sigma^2)$ объема $N=150$:"
   ]
  },
  {
   "cell_type": "code",
   "execution_count": 17,
   "metadata": {},
   "outputs": [
    {
     "name": "stdout",
     "output_type": "stream",
     "text": [
      "Mean: 42.117798866322936\n",
      "Median: 42.09660954869403\n"
     ]
    }
   ],
   "source": [
    "a = 42\n",
    "shift = 5\n",
    "sigma = 1\n",
    "n_big = 150\n",
    "n_small = 5\n",
    "\n",
    "ds = np.random.normal(a, sigma, 150)\n",
    "print('Mean:', np.mean(ds))\n",
    "print('Median:', np.median(ds))"
   ]
  },
  {
   "cell_type": "markdown",
   "metadata": {},
   "source": [
    "Добавим выборку из $N(a + 5\\sigma, \\sigma^2)$ объема $N = 5$ в исходную выборку:"
   ]
  },
  {
   "cell_type": "code",
   "execution_count": 22,
   "metadata": {},
   "outputs": [
    {
     "name": "stdout",
     "output_type": "stream",
     "text": [
      "Mean: 42.4349305183523\n",
      "Median: 42.278513358233326\n"
     ]
    }
   ],
   "source": [
    "ds_shifted = np.random.normal(a + shift * sigma, sigma, 5)\n",
    "ds = np.concatenate((ds, ds_shifted))\n",
    "\n",
    "print('Mean:', np.mean(ds))\n",
    "print('Median:', np.median(ds))"
   ]
  },
  {
   "cell_type": "markdown",
   "metadata": {},
   "source": [
    "Повторим моделирование несколько раз и посмотрим на смещение среднего и медианы относительно $a$."
   ]
  },
  {
   "cell_type": "code",
   "execution_count": 27,
   "metadata": {},
   "outputs": [],
   "source": [
    "medians_shifts = []\n",
    "mean_shifts = []\n",
    "\n",
    "for _ in range(10):\n",
    "    ds = np.random.normal(a, sigma, 150)\n",
    "    ds_shifted = np.random.normal(a + shift * sigma, sigma, 5)\n",
    "    ds = np.concatenate((ds, ds_shifted))\n",
    "    \n",
    "    medians_shifts.append(np.median(ds) - a)\n",
    "    mean_shifts.append(np.mean(ds) - a)"
   ]
  },
  {
   "cell_type": "markdown",
   "metadata": {},
   "source": [
    "Построим графики для смещений:"
   ]
  },
  {
   "cell_type": "code",
   "execution_count": 31,
   "metadata": {},
   "outputs": [
    {
     "data": {
      "image/png": "[encoded data removed]",
      "text/plain": [
       "<Figure size 432x288 with 1 Axes>"
      ]
     },
     "metadata": {
      "needs_background": "light"
     },
     "output_type": "display_data"
    }
   ],
   "source": [
    "plt.boxplot([medians_shifts, mean_shifts])\n",
    "plt.xticks([1, 2], ['Median', 'Mean'])\n",
    "\n",
    "\n",
    "plt.xlabel('Statictic')\n",
    "plt.ylabel('Shift from real mean')\n",
    "plt.show()"
   ]
  },
  {
   "cell_type": "markdown",
   "metadata": {},
   "source": [
    "### Вывод:\n",
    "Медиана менее чувствительна к большим значениям на концах, чем среднее, так как учитывает только расположение \"среднего\" элемента, без каких-либо весов. А значит использовать медиану для оценки среднего можно среднего можно **не всега**, так как в некоторых случаях они могут не совпадать. Например, при наличии большого количества отдалённых outliers с одной из сторон выборки."
   ]
  },
  {
   "cell_type": "code",
   "execution_count": null,
   "metadata": {},
   "outputs": [],
   "source": []
  }
 ],
 "metadata": {
  "kernelspec": {
   "display_name": "Python 3",
   "language": "python",
   "name": "python3"
  },
  "language_info": {
   "codemirror_mode": {
    "name": "ipython",
    "version": 3
   },
   "file_extension": ".py",
   "mimetype": "text/x-python",
   "name": "python",
   "nbconvert_exporter": "python",
   "pygments_lexer": "ipython3",
   "version": "3.7.4"
  },
  "pycharm": {
   "stem_cell": {
    "cell_type": "raw",
    "source": [],
    "metadata": {
     "collapsed": false
    }
   }
  }
 },
 "nbformat": 4,
 "nbformat_minor": 2
}
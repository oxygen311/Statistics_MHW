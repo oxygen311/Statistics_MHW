{
 "cells": [
  {
   "cell_type": "code",
   "execution_count": 1,
   "metadata": {},
   "outputs": [],
   "source": [
    "import warnings\n",
    "warnings.filterwarnings('ignore')\n",
    "\n",
    "from scipy.stats import chisquare, geom\n",
    "\n",
    "import numpy as np\n",
    "import matplotlib.pyplot as plt\n",
    "import seaborn as sns\n",
    "\n",
    "sns.set(style='whitegrid', font='serif')\n",
    "\n",
    "threshold = 6"
   ]
  },
  {
   "cell_type": "markdown",
   "metadata": {},
   "source": [
    "## Задание 1\n",
    "\n",
    "Пусть $x_1 , . . . , x_n$ — выборка из геометрического распределения с параметром $p$. \n",
    "Воспользуйтесь критерием согласия $\\chi^2$ для проверки $H_0 : p = p_0$."
   ]
  },
  {
   "cell_type": "markdown",
   "metadata": {},
   "source": [
    "### Пункт 1\n",
    "Что делать, если некоторые из ожидаемых частот (подсчитываются в ходе применения критерия) маленькие?"
   ]
  },
  {
   "cell_type": "markdown",
   "metadata": {},
   "source": [
    "Для применения критерия согласия $\\chi^2$ существует требование $\\forall j\\, E_j = p_j n \\geq 6$. \n",
    "Если это уловия не выополняется, то некоторые исходы необходимо объеденить.\n",
    "Напишем функцию, которая разбивает исходы на правильные множества исходов.\n",
    "Для написания подобной функции заметим, что исходы, которые необходимо оюъеденить, всегда идут подрят.\n",
    "Последний исход всегда будет до бесконечности, а в остальных исходах будет указан полуинтервал вида $[a,b)$."
   ]
  },
  {
   "cell_type": "code",
   "execution_count": 2,
   "metadata": {},
   "outputs": [],
   "source": [
    "def outcome_sets(n, p):\n",
    "    start_i, i, acc_p = 1, 1, 0\n",
    "\n",
    "    outcomes = []\n",
    "    while geom.sf(i, p) * n > threshold:\n",
    "        acc_p += geom.pmf(i, p)\n",
    "        i += 1\n",
    "        if acc_p * n > threshold:\n",
    "            outcomes.append((start_i, i))\n",
    "            start_i = i\n",
    "            acc_p = 0\n",
    "    outcomes.append(start_i)\n",
    "            \n",
    "    return outcomes"
   ]
  },
  {
   "cell_type": "markdown",
   "metadata": {},
   "source": [
    "**Пример множеств исходов** для $n=100$ и $p=0.3$."
   ]
  },
  {
   "cell_type": "code",
   "execution_count": 3,
   "metadata": {},
   "outputs": [
    {
     "data": {
      "text/plain": [
       "[(1, 2), (2, 3), (3, 4), (4, 5), (5, 6), (6, 8), 8]"
      ]
     },
     "execution_count": 3,
     "metadata": {},
     "output_type": "execute_result"
    }
   ],
   "source": [
    "outcome_sets(100, 0.3)"
   ]
  },
  {
   "cell_type": "markdown",
   "metadata": {},
   "source": [
    "**Реализуем функцию**, которая применяет критерий с зададанным уровнем значимости."
   ]
  },
  {
   "cell_type": "code",
   "execution_count": 4,
   "metadata": {},
   "outputs": [],
   "source": [
    "def is_geom_with_p(ds, p, alpha):\n",
    "    outcomes = outcome_sets(len(ds), p)\n",
    "    \n",
    "    tail = outcomes[-1] - 1\n",
    "    expected = [geom.sf(tail, p) * len(ds)]\n",
    "    observed = [(ds > tail).sum()]\n",
    "    \n",
    "    for left, right in outcomes[:-1]:\n",
    "        expected.append(sum((geom.pmf(i, p) for i in range(left, right))) * len(ds))\n",
    "        observed.append(((ds >= left) & (ds < right)).sum())\n",
    "    \n",
    "    _, p_val = chisquare(observed, expected)\n",
    "    return p_val > alpha"
   ]
  },
  {
   "cell_type": "markdown",
   "metadata": {},
   "source": [
    "Проверим **корректность построенного критерия**"
   ]
  },
  {
   "cell_type": "code",
   "execution_count": 5,
   "metadata": {},
   "outputs": [
    {
     "data": {
      "text/plain": [
       "0.943"
      ]
     },
     "execution_count": 5,
     "metadata": {},
     "output_type": "execute_result"
    }
   ],
   "source": [
    "tries = 1000\n",
    "alpha = 0.05\n",
    "n = 420\n",
    "p = 0.3\n",
    "\n",
    "results = [is_geom_with_p(geom.rvs(p, size=n), p, alpha) for _ in range(tries)]\n",
    "np.mean(results)"
   ]
  },
  {
   "cell_type": "markdown",
   "metadata": {},
   "source": [
    "### Пункт 2\n",
    "Есть ли зависимость мощности от $p_1$ при выборе простой $H_1 : p = p_1$? Продемонстрируйте это с помощью моделирования;"
   ]
  },
  {
   "cell_type": "markdown",
   "metadata": {},
   "source": [
    "**Да, зависимость есть.**\n",
    "Тем выше мощность, чем больше $|p_1 - p_0|$, продемострируем это:"
   ]
  },
  {
   "cell_type": "code",
   "execution_count": 6,
   "metadata": {},
   "outputs": [
    {
     "data": {
      "image/png": "[encoded data removed]",
      "text/plain": [
       "<Figure size 432x288 with 1 Axes>"
      ]
     },
     "metadata": {
      "needs_background": "light"
     },
     "output_type": "display_data"
    }
   ],
   "source": [
    "p_0 = 0.3\n",
    "n = 100\n",
    "alpha = 0.05\n",
    "tries = 210\n",
    "p_1_min, p_1_max, p_1_step = 0.01, 1, 0.01\n",
    "\n",
    "ps_1 = np.arange(p_1_min, p_1_max, p_1_step)\n",
    "power_of_test = []   \n",
    "for p_1 in ps_1:\n",
    "    results = [is_geom_with_p(geom.rvs(p_1, size=n), p_0, alpha) for _ in range(tries)]\n",
    "    power_of_test.append(1 - np.mean(results))\n",
    "    \n",
    "plt.plot(ps_1, power_of_test)\n",
    "plt.xticks(label=np.round(ps_1,2))\n",
    "plt.xlabel('p_1')\n",
    "plt.ylabel('Estimated power of test')\n",
    "plt.show()"
   ]
  },
  {
   "cell_type": "code",
   "execution_count": null,
   "metadata": {},
   "outputs": [],
   "source": []
  }
 ],
 "metadata": {
  "kernelspec": {
   "display_name": "Python 3",
   "language": "python",
   "name": "python3"
  },
  "language_info": {
   "codemirror_mode": {
    "name": "ipython",
    "version": 3
   },
   "file_extension": ".py",
   "mimetype": "text/x-python",
   "name": "python",
   "nbconvert_exporter": "python",
   "pygments_lexer": "ipython3",
   "version": "3.7.4"
  }
 },
 "nbformat": 4,
 "nbformat_minor": 2
}

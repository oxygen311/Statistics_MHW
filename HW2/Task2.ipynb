{
 "cells": [
  {
   "cell_type": "markdown",
   "metadata": {},
   "source": [
    "## Задание 2\n",
    "Данные Immunotherapy."
   ]
  },
  {
   "cell_type": "code",
   "execution_count": 1,
   "metadata": {},
   "outputs": [],
   "source": [
    "import pandas as pd\n",
    "import numpy as np\n",
    "import matplotlib.pyplot as plt\n",
    "\n",
    "from scipy.stats import chi2_contingency, ttest_ind"
   ]
  },
  {
   "cell_type": "code",
   "execution_count": 2,
   "metadata": {},
   "outputs": [
    {
     "data": {
      "text/html": [
       "<div>\n",
       "<style scoped>\n",
       "    .dataframe tbody tr th:only-of-type {\n",
       "        vertical-align: middle;\n",
       "    }\n",
       "\n",
       "    .dataframe tbody tr th {\n",
       "        vertical-align: top;\n",
       "    }\n",
       "\n",
       "    .dataframe thead th {\n",
       "        text-align: right;\n",
       "    }\n",
       "</style>\n",
       "<table border=\"1\" class=\"dataframe\">\n",
       "  <thead>\n",
       "    <tr style=\"text-align: right;\">\n",
       "      <th></th>\n",
       "      <th>sex</th>\n",
       "      <th>age</th>\n",
       "      <th>Time</th>\n",
       "      <th>Number_of_Warts</th>\n",
       "      <th>Type</th>\n",
       "      <th>Area</th>\n",
       "      <th>induration_diameter</th>\n",
       "      <th>Result_of_Treatment</th>\n",
       "    </tr>\n",
       "  </thead>\n",
       "  <tbody>\n",
       "    <tr>\n",
       "      <td>0</td>\n",
       "      <td>1</td>\n",
       "      <td>22</td>\n",
       "      <td>2.25</td>\n",
       "      <td>14</td>\n",
       "      <td>3</td>\n",
       "      <td>51</td>\n",
       "      <td>50</td>\n",
       "      <td>1</td>\n",
       "    </tr>\n",
       "    <tr>\n",
       "      <td>1</td>\n",
       "      <td>1</td>\n",
       "      <td>15</td>\n",
       "      <td>3.00</td>\n",
       "      <td>2</td>\n",
       "      <td>3</td>\n",
       "      <td>900</td>\n",
       "      <td>70</td>\n",
       "      <td>1</td>\n",
       "    </tr>\n",
       "    <tr>\n",
       "      <td>2</td>\n",
       "      <td>1</td>\n",
       "      <td>16</td>\n",
       "      <td>10.50</td>\n",
       "      <td>2</td>\n",
       "      <td>1</td>\n",
       "      <td>100</td>\n",
       "      <td>25</td>\n",
       "      <td>1</td>\n",
       "    </tr>\n",
       "    <tr>\n",
       "      <td>3</td>\n",
       "      <td>1</td>\n",
       "      <td>27</td>\n",
       "      <td>4.50</td>\n",
       "      <td>9</td>\n",
       "      <td>3</td>\n",
       "      <td>80</td>\n",
       "      <td>30</td>\n",
       "      <td>1</td>\n",
       "    </tr>\n",
       "    <tr>\n",
       "      <td>4</td>\n",
       "      <td>1</td>\n",
       "      <td>20</td>\n",
       "      <td>8.00</td>\n",
       "      <td>6</td>\n",
       "      <td>1</td>\n",
       "      <td>45</td>\n",
       "      <td>8</td>\n",
       "      <td>1</td>\n",
       "    </tr>\n",
       "    <tr>\n",
       "      <td>...</td>\n",
       "      <td>...</td>\n",
       "      <td>...</td>\n",
       "      <td>...</td>\n",
       "      <td>...</td>\n",
       "      <td>...</td>\n",
       "      <td>...</td>\n",
       "      <td>...</td>\n",
       "      <td>...</td>\n",
       "    </tr>\n",
       "    <tr>\n",
       "      <td>85</td>\n",
       "      <td>1</td>\n",
       "      <td>40</td>\n",
       "      <td>5.50</td>\n",
       "      <td>8</td>\n",
       "      <td>3</td>\n",
       "      <td>69</td>\n",
       "      <td>5</td>\n",
       "      <td>1</td>\n",
       "    </tr>\n",
       "    <tr>\n",
       "      <td>86</td>\n",
       "      <td>1</td>\n",
       "      <td>38</td>\n",
       "      <td>7.50</td>\n",
       "      <td>8</td>\n",
       "      <td>2</td>\n",
       "      <td>56</td>\n",
       "      <td>45</td>\n",
       "      <td>1</td>\n",
       "    </tr>\n",
       "    <tr>\n",
       "      <td>87</td>\n",
       "      <td>1</td>\n",
       "      <td>46</td>\n",
       "      <td>11.50</td>\n",
       "      <td>4</td>\n",
       "      <td>1</td>\n",
       "      <td>91</td>\n",
       "      <td>25</td>\n",
       "      <td>0</td>\n",
       "    </tr>\n",
       "    <tr>\n",
       "      <td>88</td>\n",
       "      <td>1</td>\n",
       "      <td>32</td>\n",
       "      <td>12.00</td>\n",
       "      <td>9</td>\n",
       "      <td>1</td>\n",
       "      <td>43</td>\n",
       "      <td>50</td>\n",
       "      <td>0</td>\n",
       "    </tr>\n",
       "    <tr>\n",
       "      <td>89</td>\n",
       "      <td>2</td>\n",
       "      <td>23</td>\n",
       "      <td>6.75</td>\n",
       "      <td>6</td>\n",
       "      <td>1</td>\n",
       "      <td>19</td>\n",
       "      <td>2</td>\n",
       "      <td>1</td>\n",
       "    </tr>\n",
       "  </tbody>\n",
       "</table>\n",
       "<p>90 rows × 8 columns</p>\n",
       "</div>"
      ],
      "text/plain": [
       "    sex  age   Time  Number_of_Warts  Type  Area  induration_diameter  \\\n",
       "0     1   22   2.25               14     3    51                   50   \n",
       "1     1   15   3.00                2     3   900                   70   \n",
       "2     1   16  10.50                2     1   100                   25   \n",
       "3     1   27   4.50                9     3    80                   30   \n",
       "4     1   20   8.00                6     1    45                    8   \n",
       "..  ...  ...    ...              ...   ...   ...                  ...   \n",
       "85    1   40   5.50                8     3    69                    5   \n",
       "86    1   38   7.50                8     2    56                   45   \n",
       "87    1   46  11.50                4     1    91                   25   \n",
       "88    1   32  12.00                9     1    43                   50   \n",
       "89    2   23   6.75                6     1    19                    2   \n",
       "\n",
       "    Result_of_Treatment  \n",
       "0                     1  \n",
       "1                     1  \n",
       "2                     1  \n",
       "3                     1  \n",
       "4                     1  \n",
       "..                  ...  \n",
       "85                    1  \n",
       "86                    1  \n",
       "87                    0  \n",
       "88                    0  \n",
       "89                    1  \n",
       "\n",
       "[90 rows x 8 columns]"
      ]
     },
     "execution_count": 2,
     "metadata": {},
     "output_type": "execute_result"
    }
   ],
   "source": [
    "df = pd.read_excel('data/Immunotherapy.xlsx')\n",
    "df"
   ]
  },
  {
   "cell_type": "markdown",
   "metadata": {},
   "source": [
    "### Пол\n",
    "Так как данные о поле дискретны, будем проверять гипозу \"результат лечиния зависит от пола\" с помощью критерия хи-квадрат для теста независимости. Не забудем проверить условие применения метода."
   ]
  },
  {
   "cell_type": "code",
   "execution_count": 3,
   "metadata": {},
   "outputs": [],
   "source": [
    "def test_dependency(column1, column2, alpha):\n",
    "    table = np.array([[len(df[(df[column1] == c1) & (df[column2] == c2)]) \n",
    "                              for c1 in df[column1].unique()] \n",
    "                              for c2 in df[column2].unique()])\n",
    "    # Application boundaries\n",
    "    assert np.all(table >= 6)\n",
    "    \n",
    "    chi2, pval, dof, expected = chi2_contingency(table)\n",
    "    return(pval > alpha)"
   ]
  },
  {
   "cell_type": "code",
   "execution_count": 4,
   "metadata": {},
   "outputs": [
    {
     "data": {
      "text/plain": [
       "True"
      ]
     },
     "execution_count": 4,
     "metadata": {},
     "output_type": "execute_result"
    }
   ],
   "source": [
    "alpha = 0.05\n",
    "test_dependency('sex', 'Result_of_Treatment', alpha)"
   ]
  },
  {
   "cell_type": "markdown",
   "metadata": {},
   "source": [
    "**Вывод**: результат лечения не зависит от пола."
   ]
  },
  {
   "cell_type": "markdown",
   "metadata": {},
   "source": [
    "### Возраст"
   ]
  },
  {
   "cell_type": "markdown",
   "metadata": {},
   "source": [
    "Будем использовать тот же критерий, но разобьем пациентов на группы по возрасту."
   ]
  },
  {
   "cell_type": "code",
   "execution_count": 5,
   "metadata": {},
   "outputs": [
    {
     "data": {
      "text/plain": [
       "True"
      ]
     },
     "execution_count": 5,
     "metadata": {},
     "output_type": "execute_result"
    }
   ],
   "source": [
    "alpha = 0.05\n",
    "df['age_group'] = np.digitize(df.age, [15, 33, 42, 60])\n",
    "test_dependency('age_group', 'Result_of_Treatment', alpha)"
   ]
  },
  {
   "cell_type": "markdown",
   "metadata": {},
   "source": [
    "**Вывод**: результат лечения не зависит от возраста."
   ]
  },
  {
   "cell_type": "markdown",
   "metadata": {},
   "source": [
    "### Тип бородавки\n",
    "Проверим зависит ли результат лечения от типа бородавки."
   ]
  },
  {
   "cell_type": "code",
   "execution_count": 6,
   "metadata": {},
   "outputs": [
    {
     "data": {
      "text/plain": [
       "True"
      ]
     },
     "execution_count": 6,
     "metadata": {},
     "output_type": "execute_result"
    }
   ],
   "source": [
    "alpha = 0.05\n",
    "test_dependency('sex', 'Type', alpha)"
   ]
  },
  {
   "cell_type": "markdown",
   "metadata": {},
   "source": [
    "**Вывод**: результат лечения не зависит от типа бородавки."
   ]
  },
  {
   "cell_type": "markdown",
   "metadata": {},
   "source": [
    "### Количество бородавок\n",
    "\n",
    "Будем проверять гипотезу \"среднее число борадавок одиноково при разных результатах лечения\" против альтернативы \"среднее число бородавок выше у тех, кому лечение не помогло\" с помощью t-теста."
   ]
  },
  {
   "cell_type": "code",
   "execution_count": 7,
   "metadata": {},
   "outputs": [
    {
     "data": {
      "text/plain": [
       "True"
      ]
     },
     "execution_count": 7,
     "metadata": {},
     "output_type": "execute_result"
    }
   ],
   "source": [
    "alpha = 0.05\n",
    "stat, pval = ttest_ind(df[df.Result_of_Treatment == 0].Number_of_Warts, df[df.Result_of_Treatment == 1].Number_of_Warts)\n",
    "pval > alpha"
   ]
  },
  {
   "cell_type": "markdown",
   "metadata": {},
   "source": [
    "**Вывод**: среднее число бородавок одинаково при разных результатах лечения."
   ]
  },
  {
   "cell_type": "markdown",
   "metadata": {},
   "source": [
    "### Время до начала лечения"
   ]
  },
  {
   "cell_type": "markdown",
   "metadata": {},
   "source": [
    "Будем проверять гипотезу \"среднее время до начала лечения одиноково при разных результатах лечения\" против альтернативы \"среднее время до начала лечения больше у тех, кому лечение не помогло\" с помощью t-теста."
   ]
  },
  {
   "cell_type": "code",
   "execution_count": 8,
   "metadata": {},
   "outputs": [
    {
     "data": {
      "text/plain": [
       "False"
      ]
     },
     "execution_count": 8,
     "metadata": {},
     "output_type": "execute_result"
    }
   ],
   "source": [
    "alpha = 0.05\n",
    "stat, pval = ttest_ind(df[df.Result_of_Treatment == 0].Time, df[df.Result_of_Treatment == 1].Time)\n",
    "pval > alpha"
   ]
  },
  {
   "cell_type": "markdown",
   "metadata": {},
   "source": [
    "**Вывод**: Гипотеза о равестве среднего временеи до начала лечения при разных результататах лечения может быть отвергнута."
   ]
  },
  {
   "cell_type": "markdown",
   "metadata": {},
   "source": [
    "### Размер бородавок\n",
    "Будем проверять гипотезу \"средний размер бородавок одиноков при разных результатах лечения\" против альтернативы \"средний размер бородавок больше у тех, кому лечение не помогло\" с помощью t-теста."
   ]
  },
  {
   "cell_type": "code",
   "execution_count": 9,
   "metadata": {},
   "outputs": [
    {
     "data": {
      "text/plain": [
       "False"
      ]
     },
     "execution_count": 9,
     "metadata": {},
     "output_type": "execute_result"
    }
   ],
   "source": [
    "alpha = 0.05\n",
    "stat, pval = ttest_ind(df[df.Area == 0].Area, df[df.Area == 1].Area)\n",
    "pval > alpha"
   ]
  },
  {
   "cell_type": "markdown",
   "metadata": {},
   "source": [
    "**Вывод**: Гипотеза о равестве среднего размера бородавок при разных результататах лечения может быть отвергнута."
   ]
  },
  {
   "cell_type": "markdown",
   "metadata": {},
   "source": [
    "### Диаметр уплотнения\n",
    "Будем проверять гипотезу \"средний диаметр уплотнения одиноков при разных результатах лечения\" против альтернативы \"средний диаметр уплотнения больше у тех, кому лечение не помогло\" с помощью t-теста."
   ]
  },
  {
   "cell_type": "code",
   "execution_count": 10,
   "metadata": {},
   "outputs": [
    {
     "data": {
      "text/plain": [
       "False"
      ]
     },
     "execution_count": 10,
     "metadata": {},
     "output_type": "execute_result"
    }
   ],
   "source": [
    "alpha = 0.05\n",
    "stat, pval = ttest_ind(df[df.Area == 0].induration_diameter, df[df.Area == 1].induration_diameter)\n",
    "pval > alpha"
   ]
  },
  {
   "cell_type": "markdown",
   "metadata": {},
   "source": [
    "**Вывод**: Гипотеза о равестве среднего диаметра уплотнения при разных результататах лечения может быть отвергнута."
   ]
  },
  {
   "cell_type": "markdown",
   "metadata": {},
   "source": [
    "### Корреляция\n",
    "Результат лечиния зависит от время до начала лечения, размера бородавок и их диаметра уплотнения.\n",
    "Посмотрим как между собой скоррелированы эти признаки."
   ]
  },
  {
   "cell_type": "code",
   "execution_count": 11,
   "metadata": {},
   "outputs": [
    {
     "name": "stdout",
     "output_type": "stream",
     "text": [
      "Time - Time : 0.9999999999999999\n",
      "Time - Area : -0.04725351461748694\n",
      "Time - induration_diameter : -0.183655918703116\n",
      "Area - Time : -0.04725351461748693\n",
      "Area - Area : 0.9999999999999998\n",
      "Area - induration_diameter : 0.11926246662404304\n",
      "induration_diameter - Time : -0.183655918703116\n",
      "induration_diameter - Area : 0.11926246662404305\n",
      "induration_diameter - induration_diameter : 1.0\n"
     ]
    }
   ],
   "source": [
    "cs = ['Time', 'Area', 'induration_diameter']\n",
    "for c1 in cs:\n",
    "    for c2 in cs:\n",
    "        print(c1, '-', c2, ':', np.corrcoef(df[c1], df[c2])[0][1])"
   ]
  },
  {
   "cell_type": "code",
   "execution_count": null,
   "metadata": {},
   "outputs": [],
   "source": []
  }
 ],
 "metadata": {
  "kernelspec": {
   "display_name": "Python 3",
   "language": "python",
   "name": "python3"
  },
  "language_info": {
   "codemirror_mode": {
    "name": "ipython",
    "version": 3
   },
   "file_extension": ".py",
   "mimetype": "text/x-python",
   "name": "python",
   "nbconvert_exporter": "python",
   "pygments_lexer": "ipython3",
   "version": "3.7.4"
  }
 },
 "nbformat": 4,
 "nbformat_minor": 2
}
